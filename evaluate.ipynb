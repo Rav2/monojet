{
 "cells": [
  {
   "cell_type": "code",
   "execution_count": 1,
   "id": "47c61a74",
   "metadata": {},
   "outputs": [],
   "source": [
    "MODEL = 'models/wino-1GeV-0'\n",
    "INDIR_TEST = 'data/'\n",
    "NO_OF_PARTICLES = 250\n",
    "PT_CUT = 1.0"
   ]
  },
  {
   "cell_type": "code",
   "execution_count": 2,
   "id": "cce6d510",
   "metadata": {},
   "outputs": [],
   "source": [
    "import numpy as np\n",
    "import awkward0 as awkward\n",
    "from dataset import *\n",
    "from cosine_decay import *\n",
    "import sys,os"
   ]
  },
  {
   "cell_type": "code",
   "execution_count": 3,
   "id": "0cd3031b-0145-477a-aaa6-f33d795dbe41",
   "metadata": {},
   "outputs": [],
   "source": [
    "import tensorflow as tf\n",
    "tf.config.set_visible_devices([], 'GPU') # disabling GPU, comment out if you want to use GPU\n",
    "\n",
    "# uncomment and adjust for GPU calculations\n",
    "# os.environ['TF_CPP_MIN_LOG_LEVEL'] = '3'\n",
    "# os.environ[\"CUDA_VISIBLE_DEVICES\"]=\"1\"\n",
    "\n",
    "# # dynamic memory growth\n",
    "# physical_devices = tf.config.list_physical_devices('GPU')\n",
    "# tf.config.experimental.set_memory_growth(physical_devices[0], True)"
   ]
  },
  {
   "cell_type": "code",
   "execution_count": 4,
   "id": "89fce14c",
   "metadata": {},
   "outputs": [],
   "source": [
    "import pandas as pd\n",
    "import matplotlib.pyplot as plt\n",
    "import matplotlib\n",
    "from os.path import join, basename, dirname, exists\n",
    "from tensorflow.keras.optimizers import *\n",
    "from tensorflow.keras.wrappers.scikit_learn import KerasClassifier\n",
    "from sklearn.model_selection import GridSearchCV, train_test_split\n",
    "# from tensorflow import keras\n",
    "from tensorflow.keras.models import Sequential, load_model\n",
    "from tensorflow.keras.layers import *\n",
    "from tensorflow.keras import regularizers\n",
    "from tensorflow.keras.optimizers import *\n",
    "from sklearn.metrics import accuracy_score\n",
    "from mpl_toolkits.axes_grid1 import make_axes_locatable\n",
    "from sklearn import preprocessing"
   ]
  },
  {
   "cell_type": "markdown",
   "id": "489e6d51",
   "metadata": {},
   "source": [
    "### Set up plot font"
   ]
  },
  {
   "cell_type": "code",
   "execution_count": 5,
   "id": "79ea1a6e",
   "metadata": {},
   "outputs": [],
   "source": [
    "from matplotlib import rc\n",
    "matplotlib.rcParams.update(matplotlib.rcParamsDefault)\n",
    "rc('legend',fontsize=10)\n",
    "rc('axes', titlesize=16)\n",
    "rc('axes', labelsize=12) \n",
    "rc('xtick', labelsize=10) \n",
    "rc('ytick', labelsize=10) \n"
   ]
  },
  {
   "cell_type": "code",
   "execution_count": 6,
   "id": "18da4521",
   "metadata": {},
   "outputs": [],
   "source": [
    "import logging\n",
    "logging.basicConfig(level=logging.INFO, format='[%(asctime)s] %(levelname)s: %(message)s')"
   ]
  },
  {
   "cell_type": "code",
   "execution_count": 7,
   "id": "f78a7969",
   "metadata": {},
   "outputs": [],
   "source": [
    "def apply_pt_cut(data, cut=1.0):\n",
    "    cond = data.X['mask'] < np.log(cut)\n",
    "    cond2 = data.X['mask'] >= np.log(cut)\n",
    "    print(cond.shape)\n",
    "    print('below the cut: ', np.sum(cond))\n",
    "    print('above the cut: ', np.sum(cond2))\n",
    "    print('sum: ', np.sum(cond) + np.sum(cond2))\n",
    "    data.X['mask'][cond] = 0.0\n",
    "    ext_shape = list(cond.shape)\n",
    "    ext_shape[-1] = 4\n",
    "    new_cond = np.repeat(cond, 5, axis=2)\n",
    "    print(new_cond.shape)\n",
    "    data.X['features'][new_cond] = 0.0\n",
    "  \n",
    "    return data, np.sum(cond2, axis=1).flatten()"
   ]
  },
  {
   "cell_type": "markdown",
   "id": "bb1467e6",
   "metadata": {},
   "source": [
    "# SM and wino300 samples"
   ]
  },
  {
   "cell_type": "code",
   "execution_count": 8,
   "id": "228355a3",
   "metadata": {},
   "outputs": [],
   "source": [
    "def load_scaler(model, name='scaler.txt'):\n",
    "    with open(join(model, name), 'r') as f:\n",
    "        lines = f.readlines()\n",
    "    dic = {}\n",
    "    key = None\n",
    "    for ii, ll in enumerate(lines):\n",
    "#         print(f'ii={ii}', f'key={key}', f'll={ll}')\n",
    "        if ii%4 == 0:\n",
    "            if key is not None:\n",
    "                dic[key] = entry\n",
    "            key = ll.strip()\n",
    "            entry = {}\n",
    "        elif ':' in ll:\n",
    "            tokens = ll.split(':')\n",
    "            entry[tokens[0]] = float(tokens[-1])\n",
    "        if ii == len(lines)-1:\n",
    "            dic[key] = entry\n",
    "    return dic"
   ]
  },
  {
   "cell_type": "code",
   "execution_count": 9,
   "id": "67e65737-41ac-4477-8009-c404efe131f8",
   "metadata": {
    "scrolled": true
   },
   "outputs": [
    {
     "name": "stderr",
     "output_type": "stream",
     "text": [
      "[2024-11-18 17:00:47,259] INFO: Start loading file data//sm_test.awkd\n",
      "[2024-11-18 17:00:47,279] INFO: Loading points\n",
      "[2024-11-18 17:00:47,280] INFO: Loading ['part_etarel', 'part_phirel']\n"
     ]
    },
    {
     "name": "stdout",
     "output_type": "stream",
     "text": [
      "Keys in the datafile found:\n",
      "['track_momentum', 'track_pt', 'track_phi', 'track_eta', 'track_charge', 'track_origin', 'photon_energy', 'photon_ET', 'photon_phi', 'photon_eta', 'photon_charge', 'photon_origin', 'hadron_energy', 'hadron_ET', 'hadron_phi', 'hadron_eta', 'hadron_charge', 'hadron_origin', 'event_pt', 'event_eta', 'event_phi', 'event_mass', 'label', 'train_val_test', 'n_parts', 'jet_PT', 'jet_Eta', 'jet_Phi', 'jet_Mass', 'jet_Flavor', 'con_jet1_phi_arr', 'con_jet2_phi_arr', 'con_jet3_phi_arr', 'con_jet1_eta_arr', 'con_jet2_eta_arr', 'con_jet3_eta_arr', 'con_jet1_pt_arr', 'con_jet2_pt_arr', 'con_jet3_pt_arr', 'con_jet1_type_arr', 'con_jet2_type_arr', 'con_jet3_type_arr', 'origin', 'part_pt_log', 'part_ptrel', 'part_logptrel', 'part_e_log', 'part_erel', 'part_logerel', 'squark_pt', 'part_raw_etarel', 'part_etarel', 'part_phirel', 'part_deltaR', 'event_MET', 'event_HT', 'event_MT2']\n",
      "Loading ['part_etarel', 'part_phirel']\n"
     ]
    },
    {
     "name": "stderr",
     "output_type": "stream",
     "text": [
      "[2024-11-18 17:00:48,755] INFO: Loading ['part_etarel', 'part_phirel']\n"
     ]
    },
    {
     "name": "stdout",
     "output_type": "stream",
     "text": [
      "Loading ['part_etarel', 'part_phirel']\n"
     ]
    },
    {
     "name": "stderr",
     "output_type": "stream",
     "text": [
      "[2024-11-18 17:00:50,483] INFO: Loading features\n",
      "[2024-11-18 17:00:50,502] INFO: Loading ['part_pt_log', 'part_e_log', 'part_etarel', 'part_phirel', 'origin']\n"
     ]
    },
    {
     "name": "stdout",
     "output_type": "stream",
     "text": [
      "Loading ['part_pt_log', 'part_e_log', 'part_etarel', 'part_phirel', 'origin']\n"
     ]
    },
    {
     "name": "stderr",
     "output_type": "stream",
     "text": [
      "[2024-11-18 17:00:52,021] INFO: Loading ['part_pt_log', 'part_e_log', 'part_etarel', 'part_phirel', 'origin']\n"
     ]
    },
    {
     "name": "stdout",
     "output_type": "stream",
     "text": [
      "Loading ['part_pt_log', 'part_e_log', 'part_etarel', 'part_phirel', 'origin']\n"
     ]
    },
    {
     "name": "stderr",
     "output_type": "stream",
     "text": [
      "[2024-11-18 17:00:53,583] INFO: Loading ['part_pt_log', 'part_e_log', 'part_etarel', 'part_phirel', 'origin']\n"
     ]
    },
    {
     "name": "stdout",
     "output_type": "stream",
     "text": [
      "Loading ['part_pt_log', 'part_e_log', 'part_etarel', 'part_phirel', 'origin']\n"
     ]
    },
    {
     "name": "stderr",
     "output_type": "stream",
     "text": [
      "[2024-11-18 17:00:55,314] INFO: Loading ['part_pt_log', 'part_e_log', 'part_etarel', 'part_phirel', 'origin']\n"
     ]
    },
    {
     "name": "stdout",
     "output_type": "stream",
     "text": [
      "Loading ['part_pt_log', 'part_e_log', 'part_etarel', 'part_phirel', 'origin']\n"
     ]
    },
    {
     "name": "stderr",
     "output_type": "stream",
     "text": [
      "[2024-11-18 17:00:59,426] INFO: Loading ['part_pt_log', 'part_e_log', 'part_etarel', 'part_phirel', 'origin']\n"
     ]
    },
    {
     "name": "stdout",
     "output_type": "stream",
     "text": [
      "Loading ['part_pt_log', 'part_e_log', 'part_etarel', 'part_phirel', 'origin']\n"
     ]
    },
    {
     "name": "stderr",
     "output_type": "stream",
     "text": [
      "[2024-11-18 17:01:05,959] INFO: Loading mask\n",
      "[2024-11-18 17:01:06,008] INFO: Loading ['part_pt_log']\n"
     ]
    },
    {
     "name": "stdout",
     "output_type": "stream",
     "text": [
      "Loading ['part_pt_log']\n"
     ]
    },
    {
     "name": "stderr",
     "output_type": "stream",
     "text": [
      "[2024-11-18 17:01:08,141] INFO: Loading origin\n",
      "[2024-11-18 17:01:08,152] INFO: Loading ['origin']\n"
     ]
    },
    {
     "name": "stdout",
     "output_type": "stream",
     "text": [
      "Loading ['origin']\n"
     ]
    },
    {
     "name": "stderr",
     "output_type": "stream",
     "text": [
      "[2024-11-18 17:01:11,963] INFO: Loading track\n",
      "[2024-11-18 17:01:11,971] INFO: Loading ['track_pt', 'track_eta', 'track_phi']\n"
     ]
    },
    {
     "name": "stdout",
     "output_type": "stream",
     "text": [
      "Loading ['track_pt', 'track_eta', 'track_phi']\n"
     ]
    },
    {
     "name": "stderr",
     "output_type": "stream",
     "text": [
      "[2024-11-18 17:01:13,446] INFO: Loading ['track_pt', 'track_eta', 'track_phi']\n"
     ]
    },
    {
     "name": "stdout",
     "output_type": "stream",
     "text": [
      "Loading ['track_pt', 'track_eta', 'track_phi']\n"
     ]
    },
    {
     "name": "stderr",
     "output_type": "stream",
     "text": [
      "[2024-11-18 17:01:15,242] INFO: Loading ['track_pt', 'track_eta', 'track_phi']\n"
     ]
    },
    {
     "name": "stdout",
     "output_type": "stream",
     "text": [
      "Loading ['track_pt', 'track_eta', 'track_phi']\n"
     ]
    },
    {
     "name": "stderr",
     "output_type": "stream",
     "text": [
      "[2024-11-18 17:01:17,662] INFO: Loading photon\n",
      "[2024-11-18 17:01:17,686] INFO: Loading ['photon_ET', 'photon_eta', 'photon_phi']\n"
     ]
    },
    {
     "name": "stdout",
     "output_type": "stream",
     "text": [
      "Loading ['photon_ET', 'photon_eta', 'photon_phi']\n"
     ]
    },
    {
     "name": "stderr",
     "output_type": "stream",
     "text": [
      "[2024-11-18 17:01:18,882] INFO: Loading ['photon_ET', 'photon_eta', 'photon_phi']\n"
     ]
    },
    {
     "name": "stdout",
     "output_type": "stream",
     "text": [
      "Loading ['photon_ET', 'photon_eta', 'photon_phi']\n"
     ]
    },
    {
     "name": "stderr",
     "output_type": "stream",
     "text": [
      "[2024-11-18 17:01:20,311] INFO: Loading ['photon_ET', 'photon_eta', 'photon_phi']\n"
     ]
    },
    {
     "name": "stdout",
     "output_type": "stream",
     "text": [
      "Loading ['photon_ET', 'photon_eta', 'photon_phi']\n"
     ]
    },
    {
     "name": "stderr",
     "output_type": "stream",
     "text": [
      "[2024-11-18 17:01:22,636] INFO: Loading hadron\n",
      "[2024-11-18 17:01:23,218] INFO: Loading ['hadron_ET', 'hadron_eta', 'hadron_phi']\n"
     ]
    },
    {
     "name": "stdout",
     "output_type": "stream",
     "text": [
      "Loading ['hadron_ET', 'hadron_eta', 'hadron_phi']\n"
     ]
    },
    {
     "name": "stderr",
     "output_type": "stream",
     "text": [
      "[2024-11-18 17:01:24,224] INFO: Loading ['hadron_ET', 'hadron_eta', 'hadron_phi']\n"
     ]
    },
    {
     "name": "stdout",
     "output_type": "stream",
     "text": [
      "Loading ['hadron_ET', 'hadron_eta', 'hadron_phi']\n"
     ]
    },
    {
     "name": "stderr",
     "output_type": "stream",
     "text": [
      "[2024-11-18 17:01:25,207] INFO: Loading ['hadron_ET', 'hadron_eta', 'hadron_phi']\n"
     ]
    },
    {
     "name": "stdout",
     "output_type": "stream",
     "text": [
      "Loading ['hadron_ET', 'hadron_eta', 'hadron_phi']\n"
     ]
    },
    {
     "name": "stderr",
     "output_type": "stream",
     "text": [
      "[2024-11-18 17:01:26,604] INFO: Loading jet\n",
      "[2024-11-18 17:01:26,636] INFO: Loading ['jet_PT', 'jet_Eta', 'jet_Phi', 'jet_Mass', 'jet_Flavor']\n"
     ]
    },
    {
     "name": "stdout",
     "output_type": "stream",
     "text": [
      "Loading ['jet_PT', 'jet_Eta', 'jet_Phi', 'jet_Mass', 'jet_Flavor']\n"
     ]
    },
    {
     "name": "stderr",
     "output_type": "stream",
     "text": [
      "[2024-11-18 17:01:27,252] INFO: Loading ['jet_PT', 'jet_Eta', 'jet_Phi', 'jet_Mass', 'jet_Flavor']\n"
     ]
    },
    {
     "name": "stdout",
     "output_type": "stream",
     "text": [
      "Loading ['jet_PT', 'jet_Eta', 'jet_Phi', 'jet_Mass', 'jet_Flavor']\n"
     ]
    },
    {
     "name": "stderr",
     "output_type": "stream",
     "text": [
      "[2024-11-18 17:01:27,875] INFO: Loading ['jet_PT', 'jet_Eta', 'jet_Phi', 'jet_Mass', 'jet_Flavor']\n"
     ]
    },
    {
     "name": "stdout",
     "output_type": "stream",
     "text": [
      "Loading ['jet_PT', 'jet_Eta', 'jet_Phi', 'jet_Mass', 'jet_Flavor']\n"
     ]
    },
    {
     "name": "stderr",
     "output_type": "stream",
     "text": [
      "[2024-11-18 17:01:28,490] INFO: Loading ['jet_PT', 'jet_Eta', 'jet_Phi', 'jet_Mass', 'jet_Flavor']\n"
     ]
    },
    {
     "name": "stdout",
     "output_type": "stream",
     "text": [
      "Loading ['jet_PT', 'jet_Eta', 'jet_Phi', 'jet_Mass', 'jet_Flavor']\n"
     ]
    },
    {
     "name": "stderr",
     "output_type": "stream",
     "text": [
      "[2024-11-18 17:01:29,123] INFO: Loading ['jet_PT', 'jet_Eta', 'jet_Phi', 'jet_Mass', 'jet_Flavor']\n"
     ]
    },
    {
     "name": "stdout",
     "output_type": "stream",
     "text": [
      "Loading ['jet_PT', 'jet_Eta', 'jet_Phi', 'jet_Mass', 'jet_Flavor']\n"
     ]
    },
    {
     "name": "stderr",
     "output_type": "stream",
     "text": [
      "[2024-11-18 17:01:29,755] INFO: Loading squark\n",
      "[2024-11-18 17:01:29,757] INFO: Loading ['squark_pt']\n"
     ]
    },
    {
     "name": "stdout",
     "output_type": "stream",
     "text": [
      "Loading ['squark_pt']\n"
     ]
    },
    {
     "name": "stderr",
     "output_type": "stream",
     "text": [
      "[2024-11-18 17:01:30,356] INFO: Loading jet1_con\n",
      "[2024-11-18 17:01:30,357] INFO: Loading ['con_jet1_phi_arr', 'con_jet1_eta_arr', 'con_jet1_pt_arr', 'con_jet1_type_arr']\n"
     ]
    },
    {
     "name": "stdout",
     "output_type": "stream",
     "text": [
      "Loading ['con_jet1_phi_arr', 'con_jet1_eta_arr', 'con_jet1_pt_arr', 'con_jet1_type_arr']\n"
     ]
    },
    {
     "name": "stderr",
     "output_type": "stream",
     "text": [
      "[2024-11-18 17:01:31,154] INFO: Loading ['con_jet1_phi_arr', 'con_jet1_eta_arr', 'con_jet1_pt_arr', 'con_jet1_type_arr']\n"
     ]
    },
    {
     "name": "stdout",
     "output_type": "stream",
     "text": [
      "Loading ['con_jet1_phi_arr', 'con_jet1_eta_arr', 'con_jet1_pt_arr', 'con_jet1_type_arr']\n"
     ]
    },
    {
     "name": "stderr",
     "output_type": "stream",
     "text": [
      "[2024-11-18 17:01:31,971] INFO: Loading ['con_jet1_phi_arr', 'con_jet1_eta_arr', 'con_jet1_pt_arr', 'con_jet1_type_arr']\n"
     ]
    },
    {
     "name": "stdout",
     "output_type": "stream",
     "text": [
      "Loading ['con_jet1_phi_arr', 'con_jet1_eta_arr', 'con_jet1_pt_arr', 'con_jet1_type_arr']\n"
     ]
    },
    {
     "name": "stderr",
     "output_type": "stream",
     "text": [
      "[2024-11-18 17:01:32,758] INFO: Loading ['con_jet1_phi_arr', 'con_jet1_eta_arr', 'con_jet1_pt_arr', 'con_jet1_type_arr']\n"
     ]
    },
    {
     "name": "stdout",
     "output_type": "stream",
     "text": [
      "Loading ['con_jet1_phi_arr', 'con_jet1_eta_arr', 'con_jet1_pt_arr', 'con_jet1_type_arr']\n"
     ]
    },
    {
     "name": "stderr",
     "output_type": "stream",
     "text": [
      "[2024-11-18 17:01:34,034] INFO: Loading jet2_con\n",
      "[2024-11-18 17:01:34,047] INFO: Loading ['con_jet2_phi_arr', 'con_jet2_eta_arr', 'con_jet2_pt_arr', 'con_jet2_type_arr']\n"
     ]
    },
    {
     "name": "stdout",
     "output_type": "stream",
     "text": [
      "Loading ['con_jet2_phi_arr', 'con_jet2_eta_arr', 'con_jet2_pt_arr', 'con_jet2_type_arr']\n"
     ]
    },
    {
     "name": "stderr",
     "output_type": "stream",
     "text": [
      "[2024-11-18 17:01:34,785] INFO: Loading ['con_jet2_phi_arr', 'con_jet2_eta_arr', 'con_jet2_pt_arr', 'con_jet2_type_arr']\n"
     ]
    },
    {
     "name": "stdout",
     "output_type": "stream",
     "text": [
      "Loading ['con_jet2_phi_arr', 'con_jet2_eta_arr', 'con_jet2_pt_arr', 'con_jet2_type_arr']\n"
     ]
    },
    {
     "name": "stderr",
     "output_type": "stream",
     "text": [
      "[2024-11-18 17:01:35,552] INFO: Loading ['con_jet2_phi_arr', 'con_jet2_eta_arr', 'con_jet2_pt_arr', 'con_jet2_type_arr']\n"
     ]
    },
    {
     "name": "stdout",
     "output_type": "stream",
     "text": [
      "Loading ['con_jet2_phi_arr', 'con_jet2_eta_arr', 'con_jet2_pt_arr', 'con_jet2_type_arr']\n"
     ]
    },
    {
     "name": "stderr",
     "output_type": "stream",
     "text": [
      "[2024-11-18 17:01:36,379] INFO: Loading ['con_jet2_phi_arr', 'con_jet2_eta_arr', 'con_jet2_pt_arr', 'con_jet2_type_arr']\n"
     ]
    },
    {
     "name": "stdout",
     "output_type": "stream",
     "text": [
      "Loading ['con_jet2_phi_arr', 'con_jet2_eta_arr', 'con_jet2_pt_arr', 'con_jet2_type_arr']\n"
     ]
    },
    {
     "name": "stderr",
     "output_type": "stream",
     "text": [
      "[2024-11-18 17:01:37,720] INFO: Loading jet3_con\n",
      "[2024-11-18 17:01:37,735] INFO: Loading ['con_jet3_phi_arr', 'con_jet3_eta_arr', 'con_jet3_pt_arr', 'con_jet3_type_arr']\n"
     ]
    },
    {
     "name": "stdout",
     "output_type": "stream",
     "text": [
      "Loading ['con_jet3_phi_arr', 'con_jet3_eta_arr', 'con_jet3_pt_arr', 'con_jet3_type_arr']\n"
     ]
    },
    {
     "name": "stderr",
     "output_type": "stream",
     "text": [
      "[2024-11-18 17:01:38,489] INFO: Loading ['con_jet3_phi_arr', 'con_jet3_eta_arr', 'con_jet3_pt_arr', 'con_jet3_type_arr']\n"
     ]
    },
    {
     "name": "stdout",
     "output_type": "stream",
     "text": [
      "Loading ['con_jet3_phi_arr', 'con_jet3_eta_arr', 'con_jet3_pt_arr', 'con_jet3_type_arr']\n"
     ]
    },
    {
     "name": "stderr",
     "output_type": "stream",
     "text": [
      "[2024-11-18 17:01:39,285] INFO: Loading ['con_jet3_phi_arr', 'con_jet3_eta_arr', 'con_jet3_pt_arr', 'con_jet3_type_arr']\n"
     ]
    },
    {
     "name": "stdout",
     "output_type": "stream",
     "text": [
      "Loading ['con_jet3_phi_arr', 'con_jet3_eta_arr', 'con_jet3_pt_arr', 'con_jet3_type_arr']\n"
     ]
    },
    {
     "name": "stderr",
     "output_type": "stream",
     "text": [
      "[2024-11-18 17:01:40,102] INFO: Loading ['con_jet3_phi_arr', 'con_jet3_eta_arr', 'con_jet3_pt_arr', 'con_jet3_type_arr']\n"
     ]
    },
    {
     "name": "stdout",
     "output_type": "stream",
     "text": [
      "Loading ['con_jet3_phi_arr', 'con_jet3_eta_arr', 'con_jet3_pt_arr', 'con_jet3_type_arr']\n"
     ]
    },
    {
     "name": "stderr",
     "output_type": "stream",
     "text": [
      "[2024-11-18 17:01:41,538] INFO: Finished loading file data//sm_test.awkd\n",
      "[2024-11-18 17:01:45,055] INFO: Start loading file data//wino_test.awkd\n"
     ]
    },
    {
     "name": "stdout",
     "output_type": "stream",
     "text": [
      "Dataset created!\n"
     ]
    },
    {
     "name": "stderr",
     "output_type": "stream",
     "text": [
      "[2024-11-18 17:01:45,348] INFO: Loading points\n",
      "[2024-11-18 17:01:45,348] INFO: Loading ['part_etarel', 'part_phirel']\n"
     ]
    },
    {
     "name": "stdout",
     "output_type": "stream",
     "text": [
      "Keys in the datafile found:\n",
      "['track_momentum', 'track_pt', 'track_phi', 'track_eta', 'track_charge', 'track_origin', 'photon_energy', 'photon_ET', 'photon_phi', 'photon_eta', 'photon_charge', 'photon_origin', 'hadron_energy', 'hadron_ET', 'hadron_phi', 'hadron_eta', 'hadron_charge', 'hadron_origin', 'event_pt', 'event_eta', 'event_phi', 'event_mass', 'label', 'train_val_test', 'n_parts', 'jet_PT', 'jet_Eta', 'jet_Phi', 'jet_Mass', 'jet_Flavor', 'con_jet1_phi_arr', 'con_jet2_phi_arr', 'con_jet3_phi_arr', 'con_jet1_eta_arr', 'con_jet2_eta_arr', 'con_jet3_eta_arr', 'con_jet1_pt_arr', 'con_jet2_pt_arr', 'con_jet3_pt_arr', 'con_jet1_type_arr', 'con_jet2_type_arr', 'con_jet3_type_arr', 'origin', 'part_pt_log', 'part_ptrel', 'part_logptrel', 'part_e_log', 'part_erel', 'part_logerel', 'squark_pt', 'part_raw_etarel', 'part_etarel', 'part_phirel', 'part_deltaR', 'event_MET', 'event_HT', 'event_MT2']\n",
      "Loading ['part_etarel', 'part_phirel']\n"
     ]
    },
    {
     "name": "stderr",
     "output_type": "stream",
     "text": [
      "[2024-11-18 17:01:45,966] INFO: Loading ['part_etarel', 'part_phirel']\n"
     ]
    },
    {
     "name": "stdout",
     "output_type": "stream",
     "text": [
      "Loading ['part_etarel', 'part_phirel']\n"
     ]
    },
    {
     "name": "stderr",
     "output_type": "stream",
     "text": [
      "[2024-11-18 17:01:46,749] INFO: Loading features\n",
      "[2024-11-18 17:01:46,760] INFO: Loading ['part_pt_log', 'part_e_log', 'part_etarel', 'part_phirel', 'origin']\n"
     ]
    },
    {
     "name": "stdout",
     "output_type": "stream",
     "text": [
      "Loading ['part_pt_log', 'part_e_log', 'part_etarel', 'part_phirel', 'origin']\n"
     ]
    },
    {
     "name": "stderr",
     "output_type": "stream",
     "text": [
      "[2024-11-18 17:01:47,578] INFO: Loading ['part_pt_log', 'part_e_log', 'part_etarel', 'part_phirel', 'origin']\n"
     ]
    },
    {
     "name": "stdout",
     "output_type": "stream",
     "text": [
      "Loading ['part_pt_log', 'part_e_log', 'part_etarel', 'part_phirel', 'origin']\n"
     ]
    },
    {
     "name": "stderr",
     "output_type": "stream",
     "text": [
      "[2024-11-18 17:01:48,466] INFO: Loading ['part_pt_log', 'part_e_log', 'part_etarel', 'part_phirel', 'origin']\n"
     ]
    },
    {
     "name": "stdout",
     "output_type": "stream",
     "text": [
      "Loading ['part_pt_log', 'part_e_log', 'part_etarel', 'part_phirel', 'origin']\n"
     ]
    },
    {
     "name": "stderr",
     "output_type": "stream",
     "text": [
      "[2024-11-18 17:01:49,600] INFO: Loading ['part_pt_log', 'part_e_log', 'part_etarel', 'part_phirel', 'origin']\n"
     ]
    },
    {
     "name": "stdout",
     "output_type": "stream",
     "text": [
      "Loading ['part_pt_log', 'part_e_log', 'part_etarel', 'part_phirel', 'origin']\n"
     ]
    },
    {
     "name": "stderr",
     "output_type": "stream",
     "text": [
      "[2024-11-18 17:01:50,521] INFO: Loading ['part_pt_log', 'part_e_log', 'part_etarel', 'part_phirel', 'origin']\n"
     ]
    },
    {
     "name": "stdout",
     "output_type": "stream",
     "text": [
      "Loading ['part_pt_log', 'part_e_log', 'part_etarel', 'part_phirel', 'origin']\n"
     ]
    },
    {
     "name": "stderr",
     "output_type": "stream",
     "text": [
      "[2024-11-18 17:01:52,550] INFO: Loading mask\n",
      "[2024-11-18 17:01:52,574] INFO: Loading ['part_pt_log']\n"
     ]
    },
    {
     "name": "stdout",
     "output_type": "stream",
     "text": [
      "Loading ['part_pt_log']\n"
     ]
    },
    {
     "name": "stderr",
     "output_type": "stream",
     "text": [
      "[2024-11-18 17:01:53,363] INFO: Loading origin\n",
      "[2024-11-18 17:01:53,368] INFO: Loading ['origin']\n"
     ]
    },
    {
     "name": "stdout",
     "output_type": "stream",
     "text": [
      "Loading ['origin']\n"
     ]
    },
    {
     "name": "stderr",
     "output_type": "stream",
     "text": [
      "[2024-11-18 17:01:54,960] INFO: Loading track\n",
      "[2024-11-18 17:01:54,965] INFO: Loading ['track_pt', 'track_eta', 'track_phi']\n"
     ]
    },
    {
     "name": "stdout",
     "output_type": "stream",
     "text": [
      "Loading ['track_pt', 'track_eta', 'track_phi']\n"
     ]
    },
    {
     "name": "stderr",
     "output_type": "stream",
     "text": [
      "[2024-11-18 17:01:55,734] INFO: Loading ['track_pt', 'track_eta', 'track_phi']\n"
     ]
    },
    {
     "name": "stdout",
     "output_type": "stream",
     "text": [
      "Loading ['track_pt', 'track_eta', 'track_phi']\n"
     ]
    },
    {
     "name": "stderr",
     "output_type": "stream",
     "text": [
      "[2024-11-18 17:01:56,246] INFO: Loading ['track_pt', 'track_eta', 'track_phi']\n"
     ]
    },
    {
     "name": "stdout",
     "output_type": "stream",
     "text": [
      "Loading ['track_pt', 'track_eta', 'track_phi']\n"
     ]
    },
    {
     "name": "stderr",
     "output_type": "stream",
     "text": [
      "[2024-11-18 17:01:56,941] INFO: Loading photon\n",
      "[2024-11-18 17:01:56,956] INFO: Loading ['photon_ET', 'photon_eta', 'photon_phi']\n"
     ]
    },
    {
     "name": "stdout",
     "output_type": "stream",
     "text": [
      "Loading ['photon_ET', 'photon_eta', 'photon_phi']\n"
     ]
    },
    {
     "name": "stderr",
     "output_type": "stream",
     "text": [
      "[2024-11-18 17:01:57,450] INFO: Loading ['photon_ET', 'photon_eta', 'photon_phi']\n"
     ]
    },
    {
     "name": "stdout",
     "output_type": "stream",
     "text": [
      "Loading ['photon_ET', 'photon_eta', 'photon_phi']\n"
     ]
    },
    {
     "name": "stderr",
     "output_type": "stream",
     "text": [
      "[2024-11-18 17:01:57,934] INFO: Loading ['photon_ET', 'photon_eta', 'photon_phi']\n"
     ]
    },
    {
     "name": "stdout",
     "output_type": "stream",
     "text": [
      "Loading ['photon_ET', 'photon_eta', 'photon_phi']\n"
     ]
    },
    {
     "name": "stderr",
     "output_type": "stream",
     "text": [
      "[2024-11-18 17:01:58,637] INFO: Loading hadron\n",
      "[2024-11-18 17:01:58,655] INFO: Loading ['hadron_ET', 'hadron_eta', 'hadron_phi']\n"
     ]
    },
    {
     "name": "stdout",
     "output_type": "stream",
     "text": [
      "Loading ['hadron_ET', 'hadron_eta', 'hadron_phi']\n"
     ]
    },
    {
     "name": "stderr",
     "output_type": "stream",
     "text": [
      "[2024-11-18 17:01:59,380] INFO: Loading ['hadron_ET', 'hadron_eta', 'hadron_phi']\n"
     ]
    },
    {
     "name": "stdout",
     "output_type": "stream",
     "text": [
      "Loading ['hadron_ET', 'hadron_eta', 'hadron_phi']\n"
     ]
    },
    {
     "name": "stderr",
     "output_type": "stream",
     "text": [
      "[2024-11-18 17:01:59,979] INFO: Loading ['hadron_ET', 'hadron_eta', 'hadron_phi']\n"
     ]
    },
    {
     "name": "stdout",
     "output_type": "stream",
     "text": [
      "Loading ['hadron_ET', 'hadron_eta', 'hadron_phi']\n"
     ]
    },
    {
     "name": "stderr",
     "output_type": "stream",
     "text": [
      "[2024-11-18 17:02:00,914] INFO: Loading jet\n",
      "[2024-11-18 17:02:00,928] INFO: Loading ['jet_PT', 'jet_Eta', 'jet_Phi', 'jet_Mass', 'jet_Flavor']\n"
     ]
    },
    {
     "name": "stdout",
     "output_type": "stream",
     "text": [
      "Loading ['jet_PT', 'jet_Eta', 'jet_Phi', 'jet_Mass', 'jet_Flavor']\n"
     ]
    },
    {
     "name": "stderr",
     "output_type": "stream",
     "text": [
      "[2024-11-18 17:02:01,231] INFO: Loading ['jet_PT', 'jet_Eta', 'jet_Phi', 'jet_Mass', 'jet_Flavor']\n"
     ]
    },
    {
     "name": "stdout",
     "output_type": "stream",
     "text": [
      "Loading ['jet_PT', 'jet_Eta', 'jet_Phi', 'jet_Mass', 'jet_Flavor']\n"
     ]
    },
    {
     "name": "stderr",
     "output_type": "stream",
     "text": [
      "[2024-11-18 17:02:01,533] INFO: Loading ['jet_PT', 'jet_Eta', 'jet_Phi', 'jet_Mass', 'jet_Flavor']\n"
     ]
    },
    {
     "name": "stdout",
     "output_type": "stream",
     "text": [
      "Loading ['jet_PT', 'jet_Eta', 'jet_Phi', 'jet_Mass', 'jet_Flavor']\n"
     ]
    },
    {
     "name": "stderr",
     "output_type": "stream",
     "text": [
      "[2024-11-18 17:02:01,833] INFO: Loading ['jet_PT', 'jet_Eta', 'jet_Phi', 'jet_Mass', 'jet_Flavor']\n"
     ]
    },
    {
     "name": "stdout",
     "output_type": "stream",
     "text": [
      "Loading ['jet_PT', 'jet_Eta', 'jet_Phi', 'jet_Mass', 'jet_Flavor']\n"
     ]
    },
    {
     "name": "stderr",
     "output_type": "stream",
     "text": [
      "[2024-11-18 17:02:02,128] INFO: Loading ['jet_PT', 'jet_Eta', 'jet_Phi', 'jet_Mass', 'jet_Flavor']\n"
     ]
    },
    {
     "name": "stdout",
     "output_type": "stream",
     "text": [
      "Loading ['jet_PT', 'jet_Eta', 'jet_Phi', 'jet_Mass', 'jet_Flavor']\n"
     ]
    },
    {
     "name": "stderr",
     "output_type": "stream",
     "text": [
      "[2024-11-18 17:02:02,439] INFO: Loading squark\n",
      "[2024-11-18 17:02:02,439] INFO: Loading ['squark_pt']\n"
     ]
    },
    {
     "name": "stdout",
     "output_type": "stream",
     "text": [
      "Loading ['squark_pt']\n"
     ]
    },
    {
     "name": "stderr",
     "output_type": "stream",
     "text": [
      "[2024-11-18 17:02:02,733] INFO: Loading jet1_con\n",
      "[2024-11-18 17:02:02,734] INFO: Loading ['con_jet1_phi_arr', 'con_jet1_eta_arr', 'con_jet1_pt_arr', 'con_jet1_type_arr']\n"
     ]
    },
    {
     "name": "stdout",
     "output_type": "stream",
     "text": [
      "Loading ['con_jet1_phi_arr', 'con_jet1_eta_arr', 'con_jet1_pt_arr', 'con_jet1_type_arr']\n"
     ]
    },
    {
     "name": "stderr",
     "output_type": "stream",
     "text": [
      "[2024-11-18 17:02:03,285] INFO: Loading ['con_jet1_phi_arr', 'con_jet1_eta_arr', 'con_jet1_pt_arr', 'con_jet1_type_arr']\n"
     ]
    },
    {
     "name": "stdout",
     "output_type": "stream",
     "text": [
      "Loading ['con_jet1_phi_arr', 'con_jet1_eta_arr', 'con_jet1_pt_arr', 'con_jet1_type_arr']\n"
     ]
    },
    {
     "name": "stderr",
     "output_type": "stream",
     "text": [
      "[2024-11-18 17:02:03,849] INFO: Loading ['con_jet1_phi_arr', 'con_jet1_eta_arr', 'con_jet1_pt_arr', 'con_jet1_type_arr']\n"
     ]
    },
    {
     "name": "stdout",
     "output_type": "stream",
     "text": [
      "Loading ['con_jet1_phi_arr', 'con_jet1_eta_arr', 'con_jet1_pt_arr', 'con_jet1_type_arr']\n"
     ]
    },
    {
     "name": "stderr",
     "output_type": "stream",
     "text": [
      "[2024-11-18 17:02:04,288] INFO: Loading ['con_jet1_phi_arr', 'con_jet1_eta_arr', 'con_jet1_pt_arr', 'con_jet1_type_arr']\n"
     ]
    },
    {
     "name": "stdout",
     "output_type": "stream",
     "text": [
      "Loading ['con_jet1_phi_arr', 'con_jet1_eta_arr', 'con_jet1_pt_arr', 'con_jet1_type_arr']\n"
     ]
    },
    {
     "name": "stderr",
     "output_type": "stream",
     "text": [
      "[2024-11-18 17:02:04,975] INFO: Loading jet2_con\n",
      "[2024-11-18 17:02:04,982] INFO: Loading ['con_jet2_phi_arr', 'con_jet2_eta_arr', 'con_jet2_pt_arr', 'con_jet2_type_arr']\n"
     ]
    },
    {
     "name": "stdout",
     "output_type": "stream",
     "text": [
      "Loading ['con_jet2_phi_arr', 'con_jet2_eta_arr', 'con_jet2_pt_arr', 'con_jet2_type_arr']\n"
     ]
    },
    {
     "name": "stderr",
     "output_type": "stream",
     "text": [
      "[2024-11-18 17:02:05,351] INFO: Loading ['con_jet2_phi_arr', 'con_jet2_eta_arr', 'con_jet2_pt_arr', 'con_jet2_type_arr']\n"
     ]
    },
    {
     "name": "stdout",
     "output_type": "stream",
     "text": [
      "Loading ['con_jet2_phi_arr', 'con_jet2_eta_arr', 'con_jet2_pt_arr', 'con_jet2_type_arr']\n"
     ]
    },
    {
     "name": "stderr",
     "output_type": "stream",
     "text": [
      "[2024-11-18 17:02:05,770] INFO: Loading ['con_jet2_phi_arr', 'con_jet2_eta_arr', 'con_jet2_pt_arr', 'con_jet2_type_arr']\n"
     ]
    },
    {
     "name": "stdout",
     "output_type": "stream",
     "text": [
      "Loading ['con_jet2_phi_arr', 'con_jet2_eta_arr', 'con_jet2_pt_arr', 'con_jet2_type_arr']\n"
     ]
    },
    {
     "name": "stderr",
     "output_type": "stream",
     "text": [
      "[2024-11-18 17:02:06,223] INFO: Loading ['con_jet2_phi_arr', 'con_jet2_eta_arr', 'con_jet2_pt_arr', 'con_jet2_type_arr']\n"
     ]
    },
    {
     "name": "stdout",
     "output_type": "stream",
     "text": [
      "Loading ['con_jet2_phi_arr', 'con_jet2_eta_arr', 'con_jet2_pt_arr', 'con_jet2_type_arr']\n"
     ]
    },
    {
     "name": "stderr",
     "output_type": "stream",
     "text": [
      "[2024-11-18 17:02:06,914] INFO: Loading jet3_con\n",
      "[2024-11-18 17:02:06,921] INFO: Loading ['con_jet3_phi_arr', 'con_jet3_eta_arr', 'con_jet3_pt_arr', 'con_jet3_type_arr']\n"
     ]
    },
    {
     "name": "stdout",
     "output_type": "stream",
     "text": [
      "Loading ['con_jet3_phi_arr', 'con_jet3_eta_arr', 'con_jet3_pt_arr', 'con_jet3_type_arr']\n"
     ]
    },
    {
     "name": "stderr",
     "output_type": "stream",
     "text": [
      "[2024-11-18 17:02:07,265] INFO: Loading ['con_jet3_phi_arr', 'con_jet3_eta_arr', 'con_jet3_pt_arr', 'con_jet3_type_arr']\n"
     ]
    },
    {
     "name": "stdout",
     "output_type": "stream",
     "text": [
      "Loading ['con_jet3_phi_arr', 'con_jet3_eta_arr', 'con_jet3_pt_arr', 'con_jet3_type_arr']\n"
     ]
    },
    {
     "name": "stderr",
     "output_type": "stream",
     "text": [
      "[2024-11-18 17:02:07,605] INFO: Loading ['con_jet3_phi_arr', 'con_jet3_eta_arr', 'con_jet3_pt_arr', 'con_jet3_type_arr']\n"
     ]
    },
    {
     "name": "stdout",
     "output_type": "stream",
     "text": [
      "Loading ['con_jet3_phi_arr', 'con_jet3_eta_arr', 'con_jet3_pt_arr', 'con_jet3_type_arr']\n"
     ]
    },
    {
     "name": "stderr",
     "output_type": "stream",
     "text": [
      "[2024-11-18 17:02:07,951] INFO: Loading ['con_jet3_phi_arr', 'con_jet3_eta_arr', 'con_jet3_pt_arr', 'con_jet3_type_arr']\n"
     ]
    },
    {
     "name": "stdout",
     "output_type": "stream",
     "text": [
      "Loading ['con_jet3_phi_arr', 'con_jet3_eta_arr', 'con_jet3_pt_arr', 'con_jet3_type_arr']\n"
     ]
    },
    {
     "name": "stderr",
     "output_type": "stream",
     "text": [
      "[2024-11-18 17:02:08,486] INFO: Finished loading file data//wino_test.awkd\n"
     ]
    },
    {
     "name": "stdout",
     "output_type": "stream",
     "text": [
      "Dataset created!\n"
     ]
    }
   ],
   "source": [
    "all_predictions = {}\n",
    "all_sq_pt = {}\n",
    "bkg_dat = Dataset(f'{INDIR_TEST}/sm_test.awkd', {}, data_format='channel_last', pad_len=NO_OF_PARTICLES)\n",
    "sig_dat = Dataset(f'{INDIR_TEST}/wino_test.awkd', {}, data_format='channel_last', pad_len=NO_OF_PARTICLES)"
   ]
  },
  {
   "cell_type": "code",
   "execution_count": 10,
   "id": "efe5f3a6-ff12-4592-b37b-ac5f3e5b8b2c",
   "metadata": {},
   "outputs": [
    {
     "name": "stdout",
     "output_type": "stream",
     "text": [
      "scaler_phi\n",
      "scaler_eta\n",
      "scaler_met\n",
      "scaler_MT2\n",
      "scaler_ht\n",
      "scaler_m\n",
      "scaler_jet1PT\n",
      "scaler_jet1ETA\n",
      "scaler_jet1MASS\n",
      "scaler_jet1DPHI\n",
      "scaler_jet2PT\n",
      "scaler_jet2ETA\n",
      "scaler_jet2MASS\n",
      "scaler_jet2DPHI\n",
      "scaler_jet3PT\n",
      "scaler_jet3ETA\n",
      "scaler_jet3MASS\n",
      "scaler_jet3DPHI\n",
      "scaler_jet4PT\n",
      "scaler_jet4ETA\n",
      "scaler_jet4MASS\n",
      "scaler_jet4DPHI\n"
     ]
    },
    {
     "name": "stderr",
     "output_type": "stream",
     "text": [
      "[2024-11-18 17:02:34,237] INFO: Rescaling ev_phi\n",
      "[2024-11-18 17:02:34,251] INFO: Rescaling ev_eta\n",
      "[2024-11-18 17:02:34,255] INFO: Rescaling ev_met\n",
      "[2024-11-18 17:02:34,258] INFO: Rescaling ev_MT2\n",
      "[2024-11-18 17:02:34,261] INFO: Rescaling ev_ht\n",
      "[2024-11-18 17:02:34,269] INFO: Rescaling ev_m\n",
      "[2024-11-18 17:02:34,272] INFO: Rescaling jet1\n",
      "[2024-11-18 17:02:34,312] INFO: Rescaling jet2\n",
      "[2024-11-18 17:02:34,324] INFO: Rescaling jet3\n",
      "[2024-11-18 17:02:34,334] INFO: Rescaling jet4\n",
      "[2024-11-18 17:02:34,344] INFO: Rescaling ev_phi\n",
      "[2024-11-18 17:02:34,345] INFO: Rescaling ev_eta\n",
      "[2024-11-18 17:02:34,346] INFO: Rescaling ev_met\n",
      "[2024-11-18 17:02:34,347] INFO: Rescaling ev_MT2\n",
      "[2024-11-18 17:02:34,348] INFO: Rescaling ev_ht\n",
      "[2024-11-18 17:02:34,349] INFO: Rescaling ev_m\n",
      "[2024-11-18 17:02:34,351] INFO: Rescaling jet1\n",
      "[2024-11-18 17:02:34,368] INFO: Rescaling jet2\n",
      "[2024-11-18 17:02:34,372] INFO: Rescaling jet3\n",
      "[2024-11-18 17:02:34,376] INFO: Rescaling jet4\n"
     ]
    },
    {
     "name": "stdout",
     "output_type": "stream",
     "text": [
      "(723474, 250, 1)\n",
      "below the cut:  40532174\n",
      "above the cut:  140336326\n",
      "sum:  180868500\n",
      "(723474, 250, 5)\n",
      "(350277, 250, 1)\n",
      "below the cut:  19139044\n",
      "above the cut:  68430206\n",
      "sum:  87569250\n",
      "(350277, 250, 5)\n",
      "---NMAX--- 350277\n",
      "\tanalysing dataset 0\n"
     ]
    },
    {
     "name": "stderr",
     "output_type": "stream",
     "text": [
      "2024-11-18 17:02:49.259104: W tensorflow/core/platform/profile_utils/cpu_utils.cc:128] Failed to get CPU frequency: 0 Hz\n"
     ]
    },
    {
     "name": "stdout",
     "output_type": "stream",
     "text": [
      "\tanalysing dataset 1\n"
     ]
    }
   ],
   "source": [
    "model_path = MODEL\n",
    "model = load_model(model_path, custom_objects={'WarmUpCosineDecay': WarmUpCosineDecay})\n",
    "dic = load_scaler(model_path, name='scaler.txt')\n",
    "print('\\n'.join(dic.keys()))\n",
    "bkg = copy.deepcopy(bkg_dat)\n",
    "sig = copy.deepcopy(sig_dat)\n",
    "bkg.scale_data(dic)\n",
    "sig.scale_data(dic)\n",
    "bkg, npart_bkg  = apply_pt_cut(bkg, PT_CUT)\n",
    "sig, npart_sig  = apply_pt_cut(sig, PT_CUT)\n",
    "npart = [npart_bkg, npart_sig]\n",
    "data = [bkg, sig]\n",
    "Nmax = np.min([val.X['mask'].shape[0] for val in data])\n",
    "print('---NMAX---', Nmax)\n",
    "predictions = []\n",
    "for ii, dset in enumerate(data):\n",
    "    print(f'\\tanalysing dataset {ii}')\n",
    "    curr_dataset = dset\n",
    "    dnn_vars = [curr_dataset['event_met'], curr_dataset['event_ht'], curr_dataset['event_eta'], curr_dataset['event_m'], curr_dataset['event_MT2'], ]\n",
    "    for ii in range(0, 4):\n",
    "        dnn_vars.append(curr_dataset.X['jet'][:, ii, 0])\n",
    "        dnn_vars.append(curr_dataset.X['jet'][:, ii, 1])\n",
    "        dnn_vars.append(curr_dataset.X['jet'][:, ii, 3])\n",
    "        dnn_vars.append(curr_dataset['Dphi'][:, ii])\n",
    "    input_vars = list(zip(*dnn_vars))\n",
    "    model2_X = np.array(input_vars)[:Nmax]\n",
    "    predictions.append(model.predict([model2_X, dset.X['points'][:Nmax], dset.X['features'][:Nmax], dset.X['mask'][:Nmax]]))\n",
    "ypred = [item for sublist in predictions for item in sublist]\n",
    "ypred2  = [t[0] for t in ypred]\n",
    "all_predictions = ypred2\n",
    "all_sq_pt = sig.X['squark'][:Nmax]"
   ]
  },
  {
   "cell_type": "code",
   "execution_count": 11,
   "id": "1a172c82",
   "metadata": {},
   "outputs": [],
   "source": [
    "ytrue = []\n",
    "for di, dset in enumerate(data):\n",
    "    ytrue.append([di]*Nmax)\n",
    "ytrue = [item for sublist in ytrue for item in sublist]"
   ]
  },
  {
   "cell_type": "code",
   "execution_count": 12,
   "id": "189d143f",
   "metadata": {},
   "outputs": [],
   "source": [
    "assert len(ytrue) == len(ypred)"
   ]
  },
  {
   "cell_type": "code",
   "execution_count": 13,
   "id": "687eec87",
   "metadata": {},
   "outputs": [],
   "source": [
    "y_true = np.array(ytrue)\n",
    "y_pred = np.array(all_predictions)"
   ]
  },
  {
   "cell_type": "markdown",
   "id": "667bad56",
   "metadata": {},
   "source": [
    "# Score histogram"
   ]
  },
  {
   "cell_type": "code",
   "execution_count": 14,
   "id": "0a02c36e-f199-4860-b3d5-d1063fdbffea",
   "metadata": {},
   "outputs": [
    {
     "name": "stdout",
     "output_type": "stream",
     "text": [
      "350277 (350277,) [60785.375 60785.254 60785.09  ... 60785.203 60785.27  60785.266]\n"
     ]
    },
    {
     "data": {
      "text/plain": [
       "<Figure size 640x480 with 0 Axes>"
      ]
     },
     "metadata": {},
     "output_type": "display_data"
    },
    {
     "data": {
      "image/png": "[encoded data removed]",
      "text/plain": [
       "<Figure size 640x480 with 1 Axes>"
      ]
     },
     "metadata": {},
     "output_type": "display_data"
    }
   ],
   "source": [
    "plt.clf()\n",
    "fig = plt.figure()\n",
    "w_bkg = np.ones(Nmax)/Nmax\n",
    "plt.hist(y_pred[y_true==0], 50, weights=w_bkg, histtype='step', color='k', label='BKG', alpha=0.7)\n",
    "\n",
    "Y_sig = y_pred[y_true==1]\n",
    "# no squarks\n",
    "zero_sq = np.ndarray.flatten(sig.X['squark'][:Nmax][:,0] == 0)\n",
    "w_zero = np.ones(np.sum(zero_sq))/Nmax\n",
    "# one squark\n",
    "cond = (sig.X['squark'][:Nmax][:,0] > 0) * (sig.X['squark'][:Nmax][:,1] == 0)\n",
    "one_sq = np.ndarray.flatten(cond)\n",
    "w_one = np.ones(np.sum(one_sq))/Nmax\n",
    "# two squarks\n",
    "two_sq = np.ndarray.flatten(sig.X['squark'][:Nmax][:,1] > 0)\n",
    "w_two = np.ones(np.sum(two_sq))/Nmax\n",
    "\n",
    "print(Nmax, y_pred[y_true==0].shape, (Y_sig[zero_sq]) + len(Y_sig[one_sq])+ len(Y_sig[two_sq]))\n",
    "\n",
    "plt.hist( [Y_sig[zero_sq],Y_sig[one_sq], Y_sig[two_sq]],\n",
    "         50,\n",
    "         weights = [w_zero, w_one, w_two],\n",
    "         histtype='barstacked', stacked=True, alpha=0.5, \n",
    "         label=[r'0 $\\tilde q$',r'1 $\\tilde q$',r'2 $\\tilde q$'] )\n",
    "plt.legend()\n",
    "plt.yscale('log')\n",
    "plt.xlabel('score')\n",
    "plt.ylabel('Normalised entries')\n",
    "plt.tight_layout()\n",
    "plt.show()"
   ]
  },
  {
   "cell_type": "code",
   "execution_count": null,
   "id": "94166435-7039-4189-978c-be90d2d85687",
   "metadata": {},
   "outputs": [],
   "source": []
  }
 ],
 "metadata": {
  "kernelspec": {
   "display_name": "Python 3 (ipykernel)",
   "language": "python",
   "name": "python3"
  },
  "language_info": {
   "codemirror_mode": {
    "name": "ipython",
    "version": 3
   },
   "file_extension": ".py",
   "mimetype": "text/x-python",
   "name": "python",
   "nbconvert_exporter": "python",
   "pygments_lexer": "ipython3",
   "version": "3.8.10"
  }
 },
 "nbformat": 4,
 "nbformat_minor": 5
}
